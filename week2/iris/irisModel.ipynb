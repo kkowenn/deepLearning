{
 "cells": [
  {
   "cell_type": "code",
   "execution_count": 20,
   "metadata": {},
   "outputs": [],
   "source": [
    "import numpy as np\n",
    "import keras as K\n",
    "\n",
    "data_file = \"/Users/kritsadakruapat/Desktop/Collage/CSX4208DL/week2/iris/irisdataset.txt\"\n",
    "# Load the numerical features\n",
    "train_x = np.loadtxt(data_file, usecols=[0, 1, 2, 3], delimiter=\",\", skiprows=0, dtype=np.float32)"
   ]
  },
  {
   "cell_type": "code",
   "execution_count": 23,
   "metadata": {},
   "outputs": [],
   "source": [
    "data = []\n",
    "labels = []\n",
    "\n",
    "with open(data_file, 'r') as file:\n",
    "    lines = file.readlines()\n",
    "    for line in lines:\n",
    "        parts = line.strip().split(',')\n",
    "        data.append(parts[:-1])  # numerical features\n",
    "        labels.append(parts[-1])  # string labels\n",
    "\n",
    "# Convert features to float32\n",
    "data = np.array(data, dtype=np.float32)\n",
    "label_encoding = {'Iris-setosa': 0, 'Iris-versicolor': 1, 'Iris-virginica': 2}\n",
    "encoded_labels = np.array([label_encoding[label] for label in labels])"
   ]
  },
  {
   "cell_type": "markdown",
   "metadata": {},
   "source": [
    "save it new file"
   ]
  },
  {
   "cell_type": "code",
   "execution_count": 24,
   "metadata": {},
   "outputs": [],
   "source": [
    "processed_data_file = \"/Users/kritsadakruapat/Desktop/Collage/CSX4208DL/week2/iris/processed_iris_dataset.txt\"\n",
    "\n",
    "# Combine features and encoded labels into a single array\n",
    "processed_data = np.column_stack((data, encoded_labels))\n",
    "\n",
    "# Save the processed data to a new text file\n",
    "np.savetxt(processed_data_file, processed_data, delimiter=\",\", fmt='%f')"
   ]
  },
  {
   "cell_type": "code",
   "execution_count": 26,
   "metadata": {},
   "outputs": [
    {
     "name": "stdout",
     "output_type": "stream",
     "text": [
      "Starting training \n",
      "\n",
      "Epoch 1/12\n",
      "120/120 [==============================] - 0s 314us/step - loss: 0.7056 - accuracy: 0.6083\n",
      "Epoch 2/12\n",
      "120/120 [==============================] - 0s 286us/step - loss: 0.5960 - accuracy: 0.6000\n",
      "Epoch 3/12\n",
      "120/120 [==============================] - 0s 307us/step - loss: 0.5546 - accuracy: 0.6750\n",
      "Epoch 4/12\n",
      "120/120 [==============================] - 0s 288us/step - loss: 0.5273 - accuracy: 0.7333\n",
      "Epoch 5/12\n",
      "120/120 [==============================] - 0s 313us/step - loss: 0.4941 - accuracy: 0.7583\n",
      "Epoch 6/12\n",
      "120/120 [==============================] - 0s 319us/step - loss: 0.4564 - accuracy: 0.8333\n",
      "Epoch 7/12\n",
      "120/120 [==============================] - 0s 299us/step - loss: 0.4241 - accuracy: 0.8750\n",
      "Epoch 8/12\n",
      "120/120 [==============================] - 0s 340us/step - loss: 0.3833 - accuracy: 0.8917\n",
      "Epoch 9/12\n",
      "120/120 [==============================] - 0s 302us/step - loss: 0.3534 - accuracy: 0.9000\n",
      "Epoch 10/12\n",
      "120/120 [==============================] - 0s 315us/step - loss: 0.3474 - accuracy: 0.8833\n",
      "Epoch 11/12\n",
      "120/120 [==============================] - 0s 302us/step - loss: 0.3200 - accuracy: 0.9167\n",
      "Epoch 12/12\n",
      "120/120 [==============================] - 0s 290us/step - loss: 0.2784 - accuracy: 0.9417\n",
      "\n",
      "Training finished \n",
      "\n"
     ]
    }
   ],
   "source": [
    "from keras.utils import to_categorical\n",
    "from sklearn.model_selection import train_test_split\n",
    "\n",
    "data = np.loadtxt(processed_data_file, delimiter=\",\", dtype=np.float32)\n",
    "\n",
    "# Separate features and labels\n",
    "X = data[:, :-1]\n",
    "y = data[:, -1]\n",
    "\n",
    "# One-hot encode the labels\n",
    "y_encoded = to_categorical(y)\n",
    "\n",
    "# Split the data into training and test sets\n",
    "X_train, X_test, y_train, y_test = train_test_split(X, y_encoded, test_size=0.2, random_state=42)\n",
    "\n",
    "# Set the random seed for reproducibility\n",
    "np.random.seed(4)\n",
    "\n",
    "# Build the neural network model\n",
    "model = Sequential()\n",
    "model.add(Dense(units=7, input_dim=4, activation='tanh'))\n",
    "model.add(Dense(units=3, activation='softmax'))\n",
    "\n",
    "# Compile the model\n",
    "model.compile(loss='categorical_crossentropy', optimizer='sgd', metrics=['accuracy'])\n",
    "\n",
    "# Train the model\n",
    "print(\"Starting training \\n\")\n",
    "h = model.fit(X_train, y_train, batch_size=1, epochs=12, verbose=1)\n",
    "print(\"\\nTraining finished \\n\")"
   ]
  },
  {
   "cell_type": "code",
   "execution_count": 27,
   "metadata": {},
   "outputs": [
    {
     "name": "stdout",
     "output_type": "stream",
     "text": [
      "Evaluation: loss = 0.445823 accuracy = 80.00% \n",
      "\n"
     ]
    }
   ],
   "source": [
    "# Evaluate the model\n",
    "eval = model.evaluate(X_test, y_test, verbose=0)\n",
    "print(\"Evaluation: loss = %0.6f accuracy = %0.2f%% \\n\" % (eval[0], eval[1]*100))"
   ]
  },
  {
   "cell_type": "code",
   "execution_count": 29,
   "metadata": {},
   "outputs": [
    {
     "name": "stdout",
     "output_type": "stream",
     "text": [
      "1/1 [==============================] - 0s 67ms/step\n",
      "Using model to predict species for features: \n",
      "[[6.1 3.1 5.1 1.1]]\n",
      "\n",
      "Predicted species is: \n",
      "Iris-versicolor\n"
     ]
    }
   ],
   "source": [
    "label_decoding = {0: 'Iris-setosa', 1: 'Iris-versicolor', 2: 'Iris-virginica'}\n",
    "# Predict for a new sample\n",
    "np.set_printoptions(precision=4)\n",
    "unknown = np.array([[6.1, 3.1, 5.1, 1.1]], dtype=np.float32)\n",
    "predicted = model.predict(unknown)\n",
    "predicted_class = np.argmax(predicted, axis=1)[0]\n",
    "predicted_label = label_decoding[predicted_class]\n",
    "\n",
    "print(\"Using model to predict species for features: \")\n",
    "print(unknown)\n",
    "print(\"\\nPredicted species is: \")\n",
    "print(predicted_label)"
   ]
  },
  {
   "cell_type": "code",
   "execution_count": null,
   "metadata": {},
   "outputs": [],
   "source": []
  }
 ],
 "metadata": {
  "kernelspec": {
   "display_name": "base",
   "language": "python",
   "name": "python3"
  },
  "language_info": {
   "codemirror_mode": {
    "name": "ipython",
    "version": 3
   },
   "file_extension": ".py",
   "mimetype": "text/x-python",
   "name": "python",
   "nbconvert_exporter": "python",
   "pygments_lexer": "ipython3",
   "version": "3.11.5"
  }
 },
 "nbformat": 4,
 "nbformat_minor": 2
}
